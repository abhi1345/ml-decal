{
  "nbformat": 4,
  "nbformat_minor": 0,
  "metadata": {
    "colab": {
      "name": "Sentiment Analysis Assignment.ipynb",
      "version": "0.3.2",
      "provenance": [],
      "collapsed_sections": [
        "rPHFQLMgWoWe",
        "Zv_Vp5cEWoWp",
        "-Sj573rQWoWx",
        "zW-XXjytWoW2"
      ]
    },
    "kernelspec": {
      "display_name": "Python 3",
      "language": "python",
      "name": "python3"
    }
  },
  "cells": [
    {
      "metadata": {
        "id": "jG0feWrpWoVB",
        "colab_type": "code",
        "colab": {}
      },
      "cell_type": "code",
      "source": [
        "import keras\n",
        "import numpy as np\n",
        "\n",
        "from keras.models import Sequential"
      ],
      "execution_count": 0,
      "outputs": []
    },
    {
      "metadata": {
        "id": "u9LUMlkYWoVE",
        "colab_type": "text"
      },
      "cell_type": "markdown",
      "source": [
        "# Sentiment Classification"
      ]
    },
    {
      "metadata": {
        "id": "RQMGGC98WoVF",
        "colab_type": "text"
      },
      "cell_type": "markdown",
      "source": [
        "In this problem we will use Kera's imdb sentiment dataset. You will take in sequences of words and use an RNN to try to classify the sequences sentiment. These sentences are movie reviews, so the sentiment reflects whether its a positive review (sentiment of 1) or a negative review (sentiment of 0). \n",
        "\n",
        "First we have to process the data a little bit, so that we have fixed length sequences.\n",
        "\n",
        "The data is given to us in integer form, so each integer represents a unique word, 0 represents a PAD character, 1 represents a START character and 2 represents a character that is unknown because it is not in the top `num_words`. \n",
        "Thus 3 represents the first real word. \n",
        "\n",
        "Also the words are in decreasing order of commonness, so the word that 3 represents is the most common word in the dataset. (It happens to be `the`)"
      ]
    },
    {
      "metadata": {
        "id": "bKwY_gR5WoVG",
        "colab_type": "code",
        "colab": {}
      },
      "cell_type": "code",
      "source": [
        "from keras.datasets import imdb\n",
        "(x_train, y_train), (x_test, y_test) = imdb.load_data(num_words=2000, maxlen=200, index_from=3)"
      ],
      "execution_count": 0,
      "outputs": []
    },
    {
      "metadata": {
        "id": "Yh52Tdw9WoVJ",
        "colab_type": "text"
      },
      "cell_type": "markdown",
      "source": [
        "#### We want to process the data into arrays of sequences that are all length 200. If a given sequence is shorter than 200 tokens we want to pad the rest of the sequence out with zeros so that the sequence is 200 long."
      ]
    },
    {
      "metadata": {
        "id": "vOfNHZf-WoVJ",
        "colab_type": "code",
        "colab": {}
      },
      "cell_type": "code",
      "source": [
        "def process_data(data):\n",
        "    processed = np.zeros(len(data) * 200).reshape((len(data), 200))\n",
        "    for i, seq in enumerate(data):\n",
        "        if len(seq) < 200:\n",
        "            processed[i] = np.pad(seq, (0,200-len(seq)), 'constant')   # PAD SEQUENCES WITH ZEROS HERE\n",
        "        else:\n",
        "            processed[i] = np.array(seq)\n",
        "    return processed"
      ],
      "execution_count": 0,
      "outputs": []
    },
    {
      "metadata": {
        "id": "UabQLMtHWoVM",
        "colab_type": "code",
        "colab": {}
      },
      "cell_type": "code",
      "source": [
        "x_train_proc = process_data(x_train)\n",
        "x_test_proc = process_data(x_test)"
      ],
      "execution_count": 0,
      "outputs": []
    },
    {
      "metadata": {
        "id": "EzQ0tJPCWoVO",
        "colab_type": "code",
        "colab": {}
      },
      "cell_type": "code",
      "source": [
        "imdb_model = Sequential()"
      ],
      "execution_count": 0,
      "outputs": []
    },
    {
      "metadata": {
        "id": "hMB-x7jbWoVQ",
        "colab_type": "text"
      },
      "cell_type": "markdown",
      "source": [
        "Now we want to add an embedding layer. The purpose of an embedding layer is to take a sequence of integers representing words in our case and turn each integer into a dense vector in some embedding space. (This is essentially the idea of Word2Vec). We want to create an embedding layer with vocab size equal to the max num words we allowed when we loaded the data (in this case 1000), and a fixed dense vector of size 32. Then we have to specify the max length of our sequences and we want to mask out zeros in our sequence since we used zero to pad.\n",
        "Use the docs for embedding layer to fill out the missing entries: https://keras.io/layers/embeddings/"
      ]
    },
    {
      "metadata": {
        "id": "KkYDf3TMWoVR",
        "colab_type": "code",
        "colab": {}
      },
      "cell_type": "code",
      "source": [
        "from keras.layers.embeddings import Embedding\n",
        "imdb_model.add(Embedding(2000, 32, input_length=200, mask_zero=True))"
      ],
      "execution_count": 0,
      "outputs": []
    },
    {
      "metadata": {
        "id": "VSVYo-UjWoVU",
        "colab_type": "text"
      },
      "cell_type": "markdown",
      "source": [
        "#### **(a)** Add an LSTM layer with 32 outputs, then a Dense layer with 16 neurons, then a relu activation, then a dense layer with 1 neuron, then a sigmoid activation. Then you should print out the model summary. The Keras documentation is here: https://keras.io/"
      ]
    },
    {
      "metadata": {
        "id": "CCDxubgoWoVV",
        "colab_type": "code",
        "colab": {}
      },
      "cell_type": "code",
      "source": [
        "from keras.layers.recurrent import LSTM\n",
        "from keras.layers import Dense, Activation\n",
        "imdb_model.add(LSTM(32))"
      ],
      "execution_count": 0,
      "outputs": []
    },
    {
      "metadata": {
        "id": "2hA2pDWfWoVY",
        "colab_type": "code",
        "colab": {}
      },
      "cell_type": "code",
      "source": [
        "imdb_model.add(Dense(16))\n",
        "imdb_model.add(Activation('relu'))"
      ],
      "execution_count": 0,
      "outputs": []
    },
    {
      "metadata": {
        "id": "VkwbMwQPWoVb",
        "colab_type": "code",
        "colab": {}
      },
      "cell_type": "code",
      "source": [
        "imdb_model.add(Dense(1))\n",
        "imdb_model.add(Activation('sigmoid'))"
      ],
      "execution_count": 0,
      "outputs": []
    },
    {
      "metadata": {
        "id": "hfVWVnhzWoVd",
        "colab_type": "code",
        "colab": {
          "base_uri": "https://localhost:8080/",
          "height": 340
        },
        "outputId": "812cfc12-8289-4c4e-eea3-045e8c078fbd"
      },
      "cell_type": "code",
      "source": [
        "imdb_model.summary()"
      ],
      "execution_count": 115,
      "outputs": [
        {
          "output_type": "stream",
          "text": [
            "_________________________________________________________________\n",
            "Layer (type)                 Output Shape              Param #   \n",
            "=================================================================\n",
            "embedding_7 (Embedding)      (None, 200, 32)           64000     \n",
            "_________________________________________________________________\n",
            "lstm_6 (LSTM)                (None, 32)                8320      \n",
            "_________________________________________________________________\n",
            "dense_11 (Dense)             (None, 16)                528       \n",
            "_________________________________________________________________\n",
            "activation_11 (Activation)   (None, 16)                0         \n",
            "_________________________________________________________________\n",
            "dense_12 (Dense)             (None, 1)                 17        \n",
            "_________________________________________________________________\n",
            "activation_12 (Activation)   (None, 1)                 0         \n",
            "=================================================================\n",
            "Total params: 72,865\n",
            "Trainable params: 72,865\n",
            "Non-trainable params: 0\n",
            "_________________________________________________________________\n"
          ],
          "name": "stdout"
        }
      ]
    },
    {
      "metadata": {
        "id": "iPCFJGD6WoVg",
        "colab_type": "text"
      },
      "cell_type": "markdown",
      "source": [
        "### If you did the above parts correctly running `imdb_model.summary()` should give you the following output."
      ]
    },
    {
      "metadata": {
        "id": "u_hfFGVOWoVg",
        "colab_type": "code",
        "colab": {}
      },
      "cell_type": "code",
      "source": [
        "#from IPython.display import Image\n",
        "#Image(filename='/home/james/Desktop/Screenshot from 2018-08-20 21-04-15.png')"
      ],
      "execution_count": 0,
      "outputs": []
    },
    {
      "metadata": {
        "id": "tSzQfjpcWoVk",
        "colab_type": "text"
      },
      "cell_type": "markdown",
      "source": [
        "#### **(b)** Now compile the model with binary cross entropy, and the adam optimizer. Also include accuracy as a metric in the compile. Then train the model on the processed data (no need to worry about class weights this time)"
      ]
    },
    {
      "metadata": {
        "id": "UM9osKCdWoVl",
        "colab_type": "code",
        "colab": {}
      },
      "cell_type": "code",
      "source": [
        "imdb_model.compile(loss='binary_crossentropy', optimizer='adam', metrics=['accuracy'])"
      ],
      "execution_count": 0,
      "outputs": []
    },
    {
      "metadata": {
        "id": "ZDEZ3jrrWoVo",
        "colab_type": "code",
        "colab": {
          "base_uri": "https://localhost:8080/",
          "height": 68
        },
        "outputId": "4661ade1-a457-42fc-c242-87910c53bd6c"
      },
      "cell_type": "code",
      "source": [
        "imdb_model.fit(x_train_proc, y_train)"
      ],
      "execution_count": 118,
      "outputs": [
        {
          "output_type": "stream",
          "text": [
            "Epoch 1/1\n",
            "25000/25000 [==============================] - 130s 5ms/step - loss: 0.3966 - acc: 0.8175\n"
          ],
          "name": "stdout"
        },
        {
          "output_type": "execute_result",
          "data": {
            "text/plain": [
              "<keras.callbacks.History at 0x7f5538969978>"
            ]
          },
          "metadata": {
            "tags": []
          },
          "execution_count": 118
        }
      ]
    },
    {
      "metadata": {
        "id": "rXy6Jd3xWoVq",
        "colab_type": "code",
        "colab": {
          "base_uri": "https://localhost:8080/",
          "height": 51
        },
        "outputId": "2beebdfe-03a7-4e8c-f492-4c3ee2b2eff0"
      },
      "cell_type": "code",
      "source": [
        "print(\"Accuracy: \", imdb_model.evaluate(x_test_proc, y_test)[1])"
      ],
      "execution_count": 119,
      "outputs": [
        {
          "output_type": "stream",
          "text": [
            "3913/3913 [==============================] - 6s 1ms/step\n",
            "Accuracy:  0.8752875032249449\n"
          ],
          "name": "stdout"
        }
      ]
    },
    {
      "metadata": {
        "id": "WOJXC5zEWoVv",
        "colab_type": "text"
      },
      "cell_type": "markdown",
      "source": [
        "#### Now we can look at our predictions and the sentences they correspond to."
      ]
    },
    {
      "metadata": {
        "id": "xBnohdRnWoVw",
        "colab_type": "code",
        "colab": {}
      },
      "cell_type": "code",
      "source": [
        "y_pred = imdb_model.predict(x_test_proc)"
      ],
      "execution_count": 0,
      "outputs": []
    },
    {
      "metadata": {
        "id": "3zeu8jnEWoVz",
        "colab_type": "code",
        "colab": {}
      },
      "cell_type": "code",
      "source": [
        "word_to_id = keras.datasets.imdb.get_word_index()\n",
        "word_to_id = {k:(v+3) for k,v in word_to_id.items()}\n",
        "word_to_id[\"<PAD>\"] = 0\n",
        "word_to_id[\"<START>\"] = 1\n",
        "word_to_id[\"<UNK>\"] = 2\n",
        "\n",
        "id_to_word = {value:key for key,value in word_to_id.items() if value < 2000}\n",
        "def get_words(token_sequence):\n",
        "    return ' '.join(id_to_word[token] for token in token_sequence)\n",
        "\n",
        "def get_sentiment(y_pred, index):\n",
        "    return 'Positive' if y_pred[index] else 'Negative'"
      ],
      "execution_count": 0,
      "outputs": []
    },
    {
      "metadata": {
        "scrolled": true,
        "id": "4LzpRVDbWoV3",
        "colab_type": "code",
        "colab": {}
      },
      "cell_type": "code",
      "source": [
        "y_pred = np.vectorize(lambda x: int(x >= 0.5))(y_pred)\n",
        "correct = []\n",
        "incorrect = []\n",
        "for i, pred in enumerate(y_pred):\n",
        "    if y_test[i] == pred:\n",
        "        correct.append(i)\n",
        "    else:\n",
        "        incorrect.append(i)"
      ],
      "execution_count": 0,
      "outputs": []
    },
    {
      "metadata": {
        "id": "rW8usZepWoV7",
        "colab_type": "text"
      },
      "cell_type": "markdown",
      "source": [
        "#### Now we print out one of the sequences we got correct."
      ]
    },
    {
      "metadata": {
        "id": "lRWnccT4WoV7",
        "colab_type": "code",
        "colab": {
          "base_uri": "https://localhost:8080/",
          "height": 71
        },
        "outputId": "ba06288b-7556-4877-ace8-0c52717a1cd8"
      },
      "cell_type": "code",
      "source": [
        "print(get_sentiment(y_pred, correct[10]))\n",
        "print(get_words(x_test[correct[10]]))"
      ],
      "execution_count": 124,
      "outputs": [
        {
          "output_type": "stream",
          "text": [
            "Negative\n",
            "<START> don't tell me this film was funny or a little funny it was a complete disaster and one of the worst movies i've ever seen <UNK> g is only funny on channel <UNK> <UNK> g show after watching his performance all i can say is he is not made for movies with a <UNK> script or more like no storyline there's nothing to keep you <UNK> full of annoying <UNK> character's this movie is a complete garbage all the way at the end of the film <UNK> g gives a <UNK> he <UNK> if you hated this film tell people it was good not even the <UNK> could save the movie he probably knew its <UNK> be a <UNK> i would of given this a <UNK> 10 but the <UNK> start is 1 overall don't even waste your time on this rubbish\n"
          ],
          "name": "stdout"
        }
      ]
    },
    {
      "metadata": {
        "id": "te53fXN8WoV-",
        "colab_type": "text"
      },
      "cell_type": "markdown",
      "source": [
        "#### And one we got wrong."
      ]
    },
    {
      "metadata": {
        "id": "HWm0WzDMWoV_",
        "colab_type": "code",
        "colab": {
          "base_uri": "https://localhost:8080/",
          "height": 71
        },
        "outputId": "c7df3fd4-5042-48d4-f139-8f4c5d1535b3"
      },
      "cell_type": "code",
      "source": [
        "print(get_sentiment(y_pred, incorrect[10]))\n",
        "print(get_words(x_test[incorrect[10]]))"
      ],
      "execution_count": 125,
      "outputs": [
        {
          "output_type": "stream",
          "text": [
            "Negative\n",
            "<START> this <UNK> as my favorite movie of all time it's the best <UNK> of a science fiction movie ever the fact that it was a <UNK> of star wars just made it all the better br br i love <UNK> think of this as the <UNK> brothers or the three <UNK> meet star wars the writing is hilarious the effects are a <UNK> the free <UNK> that goes on <UNK> all <UNK> of things coming out of left field i almost <UNK> my <UNK> when the <UNK> monster <UNK> the <UNK> br br space <UNK> was a much longer movie but only had about 15 minutes of good material in it and i felt sort of <UNK> off <UNK> like <UNK> a <UNK> that turned out to be mostly <UNK> <UNK> wars despite being only about 15 minutes long would be worth <UNK> a feature price <UNK>\n"
          ],
          "name": "stdout"
        }
      ]
    },
    {
      "metadata": {
        "id": "Dlz4DcsyWoWB",
        "colab_type": "text"
      },
      "cell_type": "markdown",
      "source": [
        "#### As you can see the amount of UNKNOWN characters in the sequence cause by having only 1000 vocab words is hurting our performance. See if you can go through and increase the number of vocab words to 2000. HINT: you have to change two places in the above code."
      ]
    },
    {
      "metadata": {
        "id": "wq59Fb3gWoWC",
        "colab_type": "code",
        "colab": {}
      },
      "cell_type": "code",
      "source": [
        "from keras import backend as K"
      ],
      "execution_count": 0,
      "outputs": []
    },
    {
      "metadata": {
        "id": "pjCPFMdcWoWE",
        "colab_type": "text"
      },
      "cell_type": "markdown",
      "source": [
        "## Embedding Exploration\n",
        "#### Another interesting thing to do is see if our learned embeddings mean anything reasonable."
      ]
    },
    {
      "metadata": {
        "id": "noLfDIKHWoWF",
        "colab_type": "code",
        "colab": {}
      },
      "cell_type": "code",
      "source": [
        "# this function takes a list of token sequences as inputs \n",
        "# and outputs the corresponding vector outputs of our `Embedding` layer\n",
        "embedding_func = K.function([imdb_model.inputs[0]], [imdb_model.layers[0].output])"
      ],
      "execution_count": 0,
      "outputs": []
    },
    {
      "metadata": {
        "id": "Dysb_A-gWoWI",
        "colab_type": "code",
        "colab": {}
      },
      "cell_type": "code",
      "source": [
        "# this function outputs the embedding of a given word using above function\n",
        "def word_to_embedding(word):\n",
        "    token = word_to_id[word]\n",
        "    seq = [token]\n",
        "    sequences = [seq]\n",
        "    inputs = [process_data(sequences)]\n",
        "    embedding = embedding_func(inputs)\n",
        "    return embedding[0][0][0]"
      ],
      "execution_count": 0,
      "outputs": []
    },
    {
      "metadata": {
        "id": "khXiLM5jWoWK",
        "colab_type": "code",
        "colab": {}
      },
      "cell_type": "code",
      "source": [
        "valid_words = [word for word, token in word_to_id.items() if token < 1000]"
      ],
      "execution_count": 0,
      "outputs": []
    },
    {
      "metadata": {
        "id": "In0TVimbWoWO",
        "colab_type": "code",
        "colab": {}
      },
      "cell_type": "code",
      "source": [
        "valid_word_embeddings = {word: word_to_embedding(word) for word in valid_words}"
      ],
      "execution_count": 0,
      "outputs": []
    },
    {
      "metadata": {
        "id": "oNL2aJFTWoWR",
        "colab_type": "text"
      },
      "cell_type": "markdown",
      "source": [
        "Since we used an embedding layer with an output size of 32, our embeddings are going to be 32-dimensional vectors. Humans can't effectively visualize beyond 3 (maybe 4) dimensions so we want to use a dimensionality reduction technique to make our embeddings more visualizable. One such technique is Principal Component Analysis or PCA. The library scikit-learn provides an easy to use API for this technique."
      ]
    },
    {
      "metadata": {
        "id": "821hSnh2WoWR",
        "colab_type": "code",
        "colab": {}
      },
      "cell_type": "code",
      "source": [
        "import sklearn\n",
        "from sklearn import decomposition"
      ],
      "execution_count": 0,
      "outputs": []
    },
    {
      "metadata": {
        "id": "OXtEVgyLWoWV",
        "colab_type": "text"
      },
      "cell_type": "markdown",
      "source": [
        "#### using the documentation for scikit-learn's PCA [here](http://scikit-learn.org/stable/modules/generated/sklearn.decomposition.PCA.html): create a PCA object with `n_components=2`"
      ]
    },
    {
      "metadata": {
        "id": "NlzIcbtMWoWW",
        "colab_type": "code",
        "colab": {}
      },
      "cell_type": "code",
      "source": [
        "pca = decomposition.PCA(n_components=2)"
      ],
      "execution_count": 0,
      "outputs": []
    },
    {
      "metadata": {
        "id": "ISJip2A9WoWY",
        "colab_type": "text"
      },
      "cell_type": "markdown",
      "source": [
        "#### using the same documentation find the function to fit the PCA transform to the provided embedding vectors. This step essentially. For the curious, this step essentially finds the 2 dimensions (since we specified `n_components=2` that explain the most variance of the dataset, in other words the two dimensions that are most representative of the deviations of any one sample to another. So these 2 dimensions are the most important and therefore the best to visualize."
      ]
    },
    {
      "metadata": {
        "id": "vUR_41MSWoWY",
        "colab_type": "code",
        "colab": {
          "base_uri": "https://localhost:8080/",
          "height": 68
        },
        "outputId": "d4f508e0-1e59-47b3-9ff0-3c61f4b48fc3"
      },
      "cell_type": "code",
      "source": [
        "vectors_to_fit = valid_word_embeddings.values()\n",
        "print(type(vectors_to_fit))\n",
        "pca.fit(list(vectors_to_fit))"
      ],
      "execution_count": 141,
      "outputs": [
        {
          "output_type": "stream",
          "text": [
            "<class 'dict_values'>\n"
          ],
          "name": "stdout"
        },
        {
          "output_type": "execute_result",
          "data": {
            "text/plain": [
              "PCA(copy=True, iterated_power='auto', n_components=2, random_state=None,\n",
              "  svd_solver='auto', tol=0.0, whiten=False)"
            ]
          },
          "metadata": {
            "tags": []
          },
          "execution_count": 141
        }
      ]
    },
    {
      "metadata": {
        "id": "9ivqaq9kWoWb",
        "colab_type": "text"
      },
      "cell_type": "markdown",
      "source": [
        "#### Now we want to visualize our embeddings in these new PCA dimensions, so using the same documentation from above fill out the missing spots in the code below to transform the embeddings into the pca dimensions."
      ]
    },
    {
      "metadata": {
        "id": "D8oyq53YWoWc",
        "colab_type": "code",
        "colab": {}
      },
      "cell_type": "code",
      "source": [
        "import matplotlib.pyplot as plt\n",
        "%matplotlib inline\n",
        "def get_pca_words(words):\n",
        "    embeddings = [valid_word_embeddings[word] for word in words]\n",
        "    pcas = [pca.transform(embedding.reshape(1, -1)) for embedding in embeddings]\n",
        "    return pcas\n",
        "\n",
        "def plot_pca_words(words, scale=1):\n",
        "    pcas = get_pca_words(words)\n",
        "    zeros = [0 for _ in pcas]\n",
        "    x_start = zeros\n",
        "    y_start = zeros\n",
        "    xs = [p[0, 0] for p in pcas]\n",
        "    ys = [p[0, 1] for p in pcas]\n",
        "    plt.quiver(x_start, y_start, xs, ys, scale=scale)\n",
        "    plt.show()"
      ],
      "execution_count": 0,
      "outputs": []
    },
    {
      "metadata": {
        "id": "k_ni4gOaoCe9",
        "colab_type": "code",
        "colab": {
          "base_uri": "https://localhost:8080/",
          "height": 54
        },
        "outputId": "97975d0a-e911-4891-e18d-ffcc3432673d"
      },
      "cell_type": "code",
      "source": [
        "print(valid_word_embeddings.keys())"
      ],
      "execution_count": 153,
      "outputs": [
        {
          "output_type": "stream",
          "text": [
            "dict_keys(['kids', 'want', 'wrong', 'effects', 'needed', 'feeling', 'saying', 'lots', 'nature', 'much', 'had', 'has', 'minute', 'seriously', 'turned', 'being', 'with', 'watched', 'more', 'learn', 'huge', 'word', 'parents', 'couple', 'into', 'video', 'makes', 'comedy', \"'\", 'could', 'stuff', 'english', 'off', 'become', 'problem', 'worth', 'era', 'production', 'another', 'apparently', 'night', 'songs', 'battle', 'turns', 'guy', 'still', 'year', 'death', \"isn't\", 'poor', 'robert', \"haven't\", 'american', \"wouldn't\", 'obviously', 'showing', 'towards', 'similar', 'telling', 'camera', 'meet', 'special', 'times', 'episodes', 'sorry', 'men', 'room', 'movies', 'third', 'personal', 'one', 'begins', 'deal', 'down', 'father', 'box', 'boy', 'police', 'first', 'get', 'wonder', 'across', 'sort', 'each', \"she's\", 'masterpiece', 'hour', 'needs', 'viewers', 'mystery', 'top', 'tom', 'premise', 'point', 'though', 'entire', 'watch', 'sexual', 'have', 'joke', \"it's\", 'like', 'doubt', 'leaves', 'excellent', 'days', 'experience', 'gave', 'picture', 'goes', 'figure', 'suspense', 'cheap', 'jokes', 'period', 'case', 'cast', 'directors', 'flick', 'story', 'leading', 'king', 'kind', 'i', '9', 'long', 'nice', 'who', 'why', 'he', 'job', 'joe', 'budget', 'keeps', 'gives', 'theme', 'best', 'life', 'child', '2', 'future', 'take', 'gone', 'am', 'an', 'as', 'myself', 'beautiful', 'imagine', 'relationship', 'set', 'sex', 'see', 'anything', 'next', 'actors', 'clearly', \"you'll\", 'hope', 'romance', 'moments', 'footage', 'it', 'hilarious', 'comments', 'together', 'supporting', 'appears', 'live', 'remember', 'half', 'shown', 'space', 'shows', 'seemed', 'style', 'theater', 'real', 'read', 'credits', 'cinematography', 'very', 'since', 'put', 'pretty', 'genre', 'liked', 'else', 'used', 'dull', 'run', 'go', 'anyway', 'she', 'written', 'horrible', 'never', 'tell', 'give', 'matter', 'stop', 'near', 'is', 'in', 'if', 'guys', 'maybe', 'killer', 'killed', 'killing', 'those', 'middle', 'same', 'audience', 'making', 'girlfriend', 'none', 'blood', 'throughout', 'create', 'understand', 'bill', 'moment', 'forward', 'instead', 'red', 'today', 'laugh', 'works', 'buy', 'but', 'minutes', 'every', 'street', 'disney', 'me', 'mr', 'my', 'end', 'god', 'got', 'already', 'took', 'talking', 'several', 'apart', 'christmas', 'head', 'hear', 'town', 'watching', 'crime', 'fails', 'late', 'hardly', 'except', 'on', 'ok', 'oh', 'of', 'or', 'everyone', 'idea', 'woman', 'rate', 'sequence', 'result', 'something', 'easily', 'boring', 'filmed', 'whether', 'were', 'own', 'four', 'series', 'second', 'came', 'country', 'worked', 'previous', 'brought', 'son', 'hot', 'open', 'average', 'many', 'around', 'her', 'found', 'guess', 'giving', 'writer', 'up', 'us', 'having', 'move', 'truth', 'release', 'back', 'bring', 'should', 'ends', '\\x96', 'daughter', 'horror', 'after', 'scenes', 'we', 'air', 'old', 'true', 'appear', 'can', 'directing', 'happen', 'care', 'british', 'message', 'television', 'comment', 'history', 'words', 'help', 'hell', \"you've\", 'reason', 'alone', 'along', 'look', 'meant', 'means', 'started', 'actor', 'completely', 'such', 'based', 'strange', 'well', 'stories', 'whose', 'features', 'decided', 'subject', 'against', 'kid', 'human', 'character', 'going', 'reviews', 'may', 'man', 'tale', 'talk', 'writers', 'mess', 'thing', 'think', 'sounds', 'cheesy', 'eyes', 'shot', 'show', 'nearly', 'money', 'deep', 'general', 'eye', 'playing', '20', 'done', 'part', 'extremely', 'storyline', 'gay', 'classic', 'obvious', 'lame', 'ask', 'including', 'although', 'actual', 'poorly', 'roles', 'weak', 'plus', 'leads', 'little', 'cool', 'name', 'unfortunately', 'rent', 'actress', 'stand', 'his', 'all', 'awful', 'basically', 'parts', 'rating', 'expect', 'feel', 'dialog', 'problems', 'sit', 'sequences', 'gets', 'made', 'hero', 'here', 'knows', 'how', 'beauty', 'surprised', 'played', 'things', 'any', 'easy', 'soon', 'time', 'films', 'ridiculous', 'note', 'slow', 'where', 'power', 'favorite', 'complete', 'richard', 'really', 'involved', 'opinion', \"can't\", 'elements', 'ago', 'age', 'great', 'potential', 'this', 'doing', 'scary', 'viewer', 'atmosphere', 'etc', 'upon', 'paul', 'not', 'follow', 'told', 'work', 'order', 'meets', 'comic', 'high', 'yes', 'dead', 'reality', 'dance', 'typical', '3', \"couldn't\", 'two', 'business', 'your', 'you', 'tried', 'a', 'actually', 'beyond', 'terrible', 'clear', 'both', 'dialogue', 'while', 'does', 'becomes', \"won't\", 'final', 'exactly', 'able', 'overall', 'group', 'career', 'effect', 'due', 'using', 'even', \"aren't\", 'laughs', 'starts', 'bad', 'three', 'performance', 'finally', 'did', 'die', 'wait', 'main', 'girl', 'living', 'stupid', 'mark', 'different', 'among', 'violence', 'children', 'someone', 'house', 'acting', 'particularly', 'fine', 'please', 'directed', 'at', 'body', 'lines', 'unless', 'thought', 'over', 'characters', 'believable', 'check', \"he's\", 'george', 'season', 'ways', 'review', 'emotional', 'kill', 'song', 'far', 'fan', \"don't\", 'hit', 'various', 'became', 'whom', 'women', 'ones', 'superb', 'will', 'lead', 'book', 'music', 'begin', 'absolutely', 'role', 'working', 'years', 's', 'wants', 'situation', 'world', 'sci', 're', 'small', 'past', 'full', 'self', 'also', 'sometimes', 'last', 'acted', 'talent', 'early', 'baby', 'perfect', 'realize', 'scene', 'documentary', 'plot', 'john', 'away', 'hand', 'musical', \"let's\", \"didn't\", 'non', 'now', 'nor', 'tries', 'america', 'start', 'stars', 'leave', '7', 'feels', 'close', 'lives', 'happens', 'e', 'michael', 'entertainment', 'powerful', \"you're\", 'so', 'lost', 'home', 'star', 'stay', 'fantastic', 'amazing', 'before', 'tells', 'interest', 'yet', 'save', 'somehow', 'interesting', 'enough', 'screen', 'disappointed', 'dramatic', 'sound', 'again', 'coming', 'through', 'beginning', 'development', 'cut', 'entertaining', 'however', 'female', 'sequel', 'school', 'would', 'fantasy', 'despite', 'when', 'setting', 'level', 'animation', 'sure', 'later', 'director', 'without', 'there', 'wife', 'version', 'rather', 'okay', 'zombie', 'question', 'our', 'out', \"doesn't\", 'local', 'opening', 'perhaps', 'difficult', 'incredibly', 'straight', \"i'd\", \"i'm\", 'turn', 'predictable', 'ever', 'possible', 'possibly', 'unique', 'for', 'team', 'love', 'went', \"they're\", 'direction', 'original', 'enjoyable', 'hours', 'action', 'always', 'number', 'play', 'whole', 'fire', \"what's\", 'funny', 'be', 'br', 'by', 'line', 'lee', 'let', 'david', 'avoid', 'stage', 'sister', 'right', 'above', 'then', 'them', 'they', 'just', 'do', 'de', 'dr', 'evil', 'the', 'fight', 'only', 'interested', 'episode', 'indeed', 'friend', 'mostly', 'short', 'husband', 'comes', 'lady', 'trying', 'strong', 'fi', 'behind', 'famous', 'during', 'seeing', 'himself', 'keep', 'herself', 'attention', 'novel', 'new', 'recommend', 'type', 'surprise', 'girls', 'points', \"there's\", 'form', 'felt', 'crazy', 'monster', 'black', 'reading', 'totally', '4', \"wasn't\", 'fall', 'material', 'b', 'fun', 'from', 'named', 'themselves', 'bunch', 'usual', 'wish', 'hate', 'enjoy', 'shots', 'been', 'greatest', 'no', 'weird', 'miss', 'was', 'and', 'falls', 'events', 'decent', 'effort', 'worse', 'worst', 'ten', 'might', 'fast', 'car', 'find', 'use', 'few', 'heard', 'looks', 'looked', 'fighting', \"who's\", 'other', 'itself', 'example', 'feature', 'sets', 'thriller', 'memorable', \"film's\", 'brilliant', 'city', 'rest', 'dark', 'tv', 'to', 'person', 'young', 'try', 'face', 'fact', 'score', 'highly', 'total', 'earlier', 'enjoyed', 'people', 'way', 'war', 'taken', 'certainly', 'usually', 'heart', 'looking', 'happy', 'truly', 'cannot', 'between', 'these', 'low', 'lot', 'family', 'takes', 'dream', 'wonderful', 'older', 'game', 'within', 'crap', 'hands', 'perfectly', 'editing', 'admit', 'peter', 'friends', 'oscar', 'attempt', 'side', 'hollywood', 'modern', 'seen', 'seem', 'dog', 'make', 'anyone', 'either', 'film', 'important', 'free', \"that's\", 'hard', 'least', 'supposed', 'most', '8', 'simple', 'simply', 'single', 'act', 'taking', 'almost', 'add', 'about', 'under', 'jack', 'badly', 'too', 'especially', 'murder', 'plenty', 'quickly', 'expected', 'mother', 'everything', 'annoying', 'sense', '1', 'happened', 'place', 'given', 'released', 'seems', 'what', 'known', 'call', 'says', 'nothing', 'political', 'once', 'light', 'their', 'imdb', 'which', 'class', 'present', 'until', 'brings', 'shame', 'mention', 'course', 'quite', 't', 'sad', 'say', 'saw', 'knew', 'mean', 'soundtrack', 'its', 'major', 'movie', 'mind', 'viewing', 'society', 'dvd', 'waste', 'less', 'five', 'chance', 'lack', 'eventually', 'break', 'forced', 'rock', 'humor', 'write', 'james', 'yourself', 'than', 'title', 'thinking', 'that', \"i'll\", 'creepy', 'performances', 'probably', 'whatever', 'some', 'plays', 'him', 'quality', 'need', 'certain', 'piece', 'japanese', 'better', 'somewhat', 'silly', 'definitely', 'ending', '10', 'said', 'left', 'background', 'french', 'pay', 'running', 'gore', 'forget', 'particular', 'good', 'big', 'bit', 'often', 'drama', 'others', 'day', 'loved', 'romantic', 'otherwise', 'voice', 'must', 'writing', 'kept', 'screenplay', 'earth', 'casting', 'serious', 'brother', 'male', 'realistic', 'view', 'white', 'come', 'cinema', '5', 'return', 'script', 'believe', 'art', 'dumb', 'are', 'york', 'finds', 'change', 'moving', 'because', 'called', 'wanted', 'fans', 'know', 'getting', \"i've\", '<PAD>', '<START>', '<UNK>'])\n"
          ],
          "name": "stdout"
        }
      ]
    },
    {
      "metadata": {
        "id": "rPHFQLMgWoWe",
        "colab_type": "text"
      },
      "cell_type": "markdown",
      "source": [
        "#### Now using the above functions we can plot the corresponding pca vectors of any words we like. Below are some good examples of pairs of words that are similar within the movie review context and their corresponding vectors are also similar. **This is a good sign.** This means the embedding we have learned is likely doing something somewhat reasonable."
      ]
    },
    {
      "metadata": {
        "id": "P5Wjm6t_WoWf",
        "colab_type": "code",
        "colab": {
          "base_uri": "https://localhost:8080/",
          "height": 265
        },
        "outputId": "1e1949ff-056c-46e0-9265-55ff4db05d8b"
      },
      "cell_type": "code",
      "source": [
        "plot_pca_words(['film', 'entertainment'], scale=0.5)"
      ],
      "execution_count": 143,
      "outputs": [
        {
          "output_type": "display_data",
          "data": {
            "image/png": "[encoded data removed]",
            "text/plain": [
              "<matplotlib.figure.Figure at 0x7f5545a7e9e8>"
            ]
          },
          "metadata": {
            "tags": []
          }
        }
      ]
    },
    {
      "metadata": {
        "id": "PtFrr5-uWoWi",
        "colab_type": "code",
        "colab": {
          "base_uri": "https://localhost:8080/",
          "height": 265
        },
        "outputId": "4b90c166-5064-4bd0-ad96-cc8f307508c7"
      },
      "cell_type": "code",
      "source": [
        "plot_pca_words(['man', 'woman'])"
      ],
      "execution_count": 144,
      "outputs": [
        {
          "output_type": "display_data",
          "data": {
            "image/png": "[encoded data removed]",
            "text/plain": [
              "<matplotlib.figure.Figure at 0x7f552f50a4e0>"
            ]
          },
          "metadata": {
            "tags": []
          }
        }
      ]
    },
    {
      "metadata": {
        "id": "0NPnMJORWoWo",
        "colab_type": "code",
        "colab": {
          "base_uri": "https://localhost:8080/",
          "height": 265
        },
        "outputId": "3abc0f3f-6638-4616-ffd2-68f8d62ea7ea"
      },
      "cell_type": "code",
      "source": [
        "plot_pca_words(['good', 'bad', 'horrible', 'great'], scale=2)"
      ],
      "execution_count": 145,
      "outputs": [
        {
          "output_type": "display_data",
          "data": {
            "image/png": "[encoded data removed]",
            "text/plain": [
              "<matplotlib.figure.Figure at 0x7f552f6c0978>"
            ]
          },
          "metadata": {
            "tags": []
          }
        }
      ]
    },
    {
      "metadata": {
        "id": "Zv_Vp5cEWoWp",
        "colab_type": "text"
      },
      "cell_type": "markdown",
      "source": [
        "#### Now find 2 more pairs of words that are similar in PCA'd embedding space. "
      ]
    },
    {
      "metadata": {
        "id": "Zb8AxnsFWoWt",
        "colab_type": "code",
        "colab": {
          "base_uri": "https://localhost:8080/",
          "height": 265
        },
        "outputId": "d4989846-22a3-41ae-abe8-2c20491135d2"
      },
      "cell_type": "code",
      "source": [
        "plot_pca_words(['had', 'has'])# plot pair of similar words here"
      ],
      "execution_count": 154,
      "outputs": [
        {
          "output_type": "display_data",
          "data": {
            "image/png": "[encoded data removed]",
            "text/plain": [
              "<matplotlib.figure.Figure at 0x7f552f5165f8>"
            ]
          },
          "metadata": {
            "tags": []
          }
        }
      ]
    },
    {
      "metadata": {
        "id": "TUF4BJY8WoWu",
        "colab_type": "code",
        "colab": {
          "base_uri": "https://localhost:8080/",
          "height": 265
        },
        "outputId": "4e290068-4f0f-4bd1-f729-b69e7df988c4"
      },
      "cell_type": "code",
      "source": [
        "plot_pca_words(['terrible', 'stupid'])# plot another pair of similar words here"
      ],
      "execution_count": 159,
      "outputs": [
        {
          "output_type": "display_data",
          "data": {
            "image/png": "[encoded data removed]",
            "text/plain": [
              "<matplotlib.figure.Figure at 0x7f5530109898>"
            ]
          },
          "metadata": {
            "tags": []
          }
        }
      ]
    },
    {
      "metadata": {
        "id": "-Sj573rQWoWx",
        "colab_type": "text"
      },
      "cell_type": "markdown",
      "source": [
        "#### Given that the task we learned these embeddings for was sentiment classification, the embeddings are typically more meaningful for adjectives. Write a sentence or two about why you think this last statement makes sense intuitively."
      ]
    },
    {
      "metadata": {
        "id": "4heXyJBlWoWx",
        "colab_type": "code",
        "colab": {}
      },
      "cell_type": "code",
      "source": [
        "#TODO see above\n",
        "#This makes sense because adjectives can change the connotation of verbs and nouns, but usually don't modify the sentiment of other adjectives. \n",
        "#For example, the phrase 'good man' would have a positive sentiment, but 'bad man' should be negative.\n",
        "#The sentiment is more directly related to the adjective than the noun."
      ],
      "execution_count": 0,
      "outputs": []
    },
    {
      "metadata": {
        "id": "zW-XXjytWoW2",
        "colab_type": "text"
      },
      "cell_type": "markdown",
      "source": [
        "#### Now just for fun we can write a function that gives us the 10 closest words to a provided word."
      ]
    },
    {
      "metadata": {
        "id": "QHvTfI9mWoW3",
        "colab_type": "code",
        "colab": {}
      },
      "cell_type": "code",
      "source": [
        "def word_to_angle(word):\n",
        "    p = pca.transform(valid_word_embeddings[word].reshape(-1, 1))\n",
        "    return np.arctan(p[0, 1] / p[0, 0])\n",
        "valid_word_angles = [word_to_angle(word) for word in valid_words]"
      ],
      "execution_count": 0,
      "outputs": []
    },
    {
      "metadata": {
        "id": "vfwlH70wWoW4",
        "colab_type": "code",
        "colab": {}
      },
      "cell_type": "code",
      "source": [
        "def find_closest_n(value, n):\n",
        "    indices = np.argsort(np.abs(np.array(valid_word_angles) - value))\n",
        "    return [(valid_words[ind], valid_word_angles[ind]) for ind in indices[:n]]"
      ],
      "execution_count": 0,
      "outputs": []
    },
    {
      "metadata": {
        "id": "-uk6Q6cqWoW7",
        "colab_type": "code",
        "colab": {
          "base_uri": "https://localhost:8080/",
          "height": 187
        },
        "outputId": "160d4655-fecd-46e0-be06-874aeda91ba2"
      },
      "cell_type": "code",
      "source": [
        "find_closest_n(word_to_angle('terrible'), 10)"
      ],
      "execution_count": 158,
      "outputs": [
        {
          "output_type": "execute_result",
          "data": {
            "text/plain": [
              "[('terrible', 0.711880424246265),\n",
              " ('stupid', 0.7120159504755182),\n",
              " ('dull', 0.7120657388818286),\n",
              " ('mess', 0.7116795214400101),\n",
              " ('save', 0.7116357239715049),\n",
              " ('lame', 0.7115732858091726),\n",
              " ('unfortunately', 0.7115036241078097),\n",
              " ('avoid', 0.7115029034311262),\n",
              " ('poorly', 0.7123135408443048),\n",
              " ('annoying', 0.7114248587922045)]"
            ]
          },
          "metadata": {
            "tags": []
          },
          "execution_count": 158
        }
      ]
    },
    {
      "metadata": {
        "id": "COEQJPJqofXS",
        "colab_type": "code",
        "colab": {}
      },
      "cell_type": "code",
      "source": [
        ""
      ],
      "execution_count": 0,
      "outputs": []
    }
  ]
}